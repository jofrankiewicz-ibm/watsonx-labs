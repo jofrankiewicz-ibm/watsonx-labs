{
 "cells": [
  {
   "cell_type": "markdown",
   "id": "b1788701",
   "metadata": {},
   "source": [
    "# Laboratorium 3: Wprowadzenie do biblioteki Python IBM GenAI"
   ]
  },
  {
   "cell_type": "markdown",
   "id": "21c1bb64",
   "metadata": {},
   "source": [
    "Witamy w laboratorium 3.\n",
    "\n",
    "W poprzednim laboratorium badaliśmy wyzwania związane z prompt engineeringiem; ucząc się, jak dostosować nasze sformułowania, wybrać inny model i zoptymalizować parametry modelu. Niewielkie zmiany mogą znacznie poprawić wyniki generowane przez modele językowe\n",
    "\n",
    "W tym laboratorium zastosujemy naszą nową wiedzę w rzeczywistym przypadku użycia, przechodząc od prompt engineeringu w watsonx.ai do prompt engineeringu w Pythonie. Korzystając z [biblioteki IBM GenAI Python](https://ibm.github.io/ibm-generative-ai/) do programowej interakcji z watsonx.ai, użyjemy szablonów, aby usprawnić naszą interakcję z modelem językowym i zmaksymalizować jego potencjał.\n",
    "\n",
    "Koncepcja Prompt Patterns zapewniana przez bibliotekę GenAI Python firmy IBM umożliwia konstruowanie szablonów, które można łatwo wypełnić określonymi informacjami w celu wygenerowania szerokiego zakresu danych wyjściowych."
   ]
  },
  {
   "cell_type": "markdown",
   "id": "755db8ef",
   "metadata": {},
   "source": [
    "# Uwaga\n",
    "**Biblioteka IBM GenAI Python jest obecnie w wersji Beta i ulegnie zmianie w przyszłości.**\n",
    "\n",
    "Biblioteka `ibm-generative-ai` wymaga `python>=3.9`."
   ]
  },
  {
   "cell_type": "markdown",
   "id": "6110e08a",
   "metadata": {},
   "source": [
    "## Przetworzenie danych wejściowych prompt engineeringu do promptów używanych przez bibliotekę GenAI o nazwie Prompt Patterns"
   ]
  },
  {
   "cell_type": "markdown",
   "id": "d991e3a4",
   "metadata": {},
   "source": [
    "### Scenariusz: spersonalizowana rekomendacja dla firmy detalicznej XYZ <a id=\"step3\"></a>"
   ]
  },
  {
   "cell_type": "markdown",
   "id": "4c7f1fb7",
   "metadata": {},
   "source": [
    "XYZ Retail to popularny internetowy sklep detaliczny, który sprzedaje szeroką gamę produktów, w tym elektronikę, odzież, artykuły gospodarstwa domowego i wiele innych. Mają dużą bazę klientów i chcą zapewnić spersonalizowane zakupy, aby zwiększyć satysfakcję klientów i zwiększyć sprzedaż.\n",
    "\n",
    "Aby osiągnąć ten cel, XYZ chce wykorzystać generatywną sztuczną inteligencję do tworzenia arkuszy informacyjnych na temat każdego ze swoich klientów. Te arkusze informacyjne zawierają podsumowanie istotnych informacji, takich jak dane demograficzne klientów (imię i nazwisko, wiek, lokalizacja) oraz historia zakupów. Te arkusze informacyjne pomogą zespołowi sprzedaży XYZ Retail budować silniejsze relacje z klientami, zwiększać zadowolenie klientów i zachęcać do powtarzania zakupów.\n"
   ]
  },
  {
   "cell_type": "markdown",
   "id": "d91d30ff",
   "metadata": {},
   "source": [
    "Rozpoczynasz od wykonania przekazania danych wejściowych w narzędziu Prompt Lab, a natępnie możesz przetestować dane wyjściowe modelu podstawowego za pomocą pdanych wejściowych, takich jak tu:\n",
    "\n",
    "![title](images/prompt_without_example.png)"
   ]
  },
  {
   "cell_type": "markdown",
   "id": "494a7da9",
   "metadata": {},
   "source": [
    "Rekomendacja modelki nie jest dokładna ani użyteczna, ponieważ klient Michael Jones kupił zabawki i gry, a nie odzież sportową na świeżym powietrzu. Na szczęście w laboratorium Prompt Engineering dowiedziałeś się, że nauka kilku strzałów może pomóc w uzyskaniu lepszych wyników.\n",
    "\n",
    "Co się stanie, gdy podamy kilka przykładów za pomocą Prompt Builder, aby poprowadzić LLM do generowania bardziej znaczących rekomendacji.\n",
    "\n",
    "\n",
    "![title](images/prompt_with_example.png)\n"
   ]
  },
  {
   "cell_type": "markdown",
   "id": "20fad598",
   "metadata": {},
   "source": [
    "Świetnie, rekomendacja produktu dla Michaela Jonesa jest znacznie lepsza. Jak jednak wyprodukować kilka zachęt do generowania rekomendacji dla wszystkich klientów detalicznych XYZ? Kopiowanie i wklejanie informacji każdego klienta do narzędzia Prompt Builder zajęłoby zbyt dużo czasu.\n",
    "\n",
    "Będziesz potrzebować rozwiązania programistycznego. Być może mógłbyś nawet wygenerować duży zestaw przykładów, a następnie użyć go do dostrajania modelu w Watsonx.ai. \n",
    "\n",
    "Ale wyprzedzamy samych siebie, ponieważ dowiesz się o tworzeniu zestawu danych Prompt Tuning w późniejszym laboratorium.\n",
    "\n",
    "\n",
    "<p align=\"center\">\n",
    "  <img src=\"images/scenario_flow_chart03.png\" width=\"600\"/>\n",
    "</p>"
   ]
  },
  {
   "cell_type": "markdown",
   "id": "16a4d9fa",
   "metadata": {},
   "source": [
    "## 1. Load the required libraries  <a id=\"step1\"></a>"
   ]
  },
  {
   "cell_type": "code",
   "execution_count": 1,
   "id": "212e985c",
   "metadata": {},
   "outputs": [
    {
     "name": "stderr",
     "output_type": "stream",
     "text": [
      "/Users/joannafrankiewicz/anaconda3/lib/python3.10/site-packages/genai/schemas/__init__.py:10: DeprecationWarning: \u001b[33;20m\n",
      "The class ModelType is being deprecated.\n",
      "Please replace any reference to ModelType by its model id string equivalent.\n",
      "Example :\n",
      "  ModelType.FLAN_T5 becomes \"google/flan-t5-xxl\"\u001b[0m\n",
      "\n",
      "  from genai.schemas.models import ModelType\n"
     ]
    }
   ],
   "source": [
    "import os\n",
    "from genai.model import Credentials, Model\n",
    "from genai.schemas import GenerateParams\n",
    "from genai.prompt_pattern import PromptPattern\n",
    "from ibm_watson_machine_learning.foundation_models.utils.enums import ModelTypes\n",
    "from ibm_watson_machine_learning.foundation_models import Model\n",
    "import json "
   ]
  },
  {
   "cell_type": "markdown",
   "id": "b9f48ad8",
   "metadata": {},
   "source": [
    "## 2. Utwórz arkusz informacyjny dla każdego klienta, przy użyciu Prompt Patterns  <a id=\"step2\"></a>"
   ]
  },
  {
   "cell_type": "markdown",
   "id": "dd643142",
   "metadata": {},
   "source": [
    "### **2.1 What are Prompt Patterns?**\n",
    "\n",
    "[Klasa PromptPattern](https://ibm.github.io/ibm-generative-ai/rst_source/genai.prompt.prompt_pattern.html) w [Bibliotece IBM GenAI](https://ibm.github.io/ibm-generative-ai/) zapewnia elastyczne podejście do tworzenia danych wejściowych z ustrukturyzowanych szablonów. Użyjemy klasy PromptPattern, aby uprościć tworzenie naszych kilku podpowiedzi dla XYZ Retail.\n",
    "\n",
    "\n",
    "Firma XYZ Retail udostępniła Ci dane swoich klientów w formacie .csv. Aby wygenerować podpowiedzi dla każdego klienta, należy przekształcić podpowiedzi opracowane w narzędziu Prompt Builder do bardziej przydatnego formatu programistycznego. Używając klasy Prompts Pattern, możesz łatwo zastąpić dane klienta z pliku, aby wygenerować jeden lub wiele danych wejściowych.\n",
    "\n",
    "Klasa PromptPattern definiuje schemat, w którym zmienne do zastąpienia są umieszczane w podwójnych nawiasach klamrowych „{{}}”. Te nawiasy klamrowe służą jako element zastępczy dla rzeczywistych danych, które zostaną zastąpione w szablonie.\n",
    "\n",
    "Zobaczmy, jak to działa w praktyce."
   ]
  },
  {
   "cell_type": "markdown",
   "id": "21bcfa88",
   "metadata": {},
   "source": [
    "### **2.2 Tworzenie prostych danych wejściowych z szablonu**\n",
    "\n",
    "Wzorzec zachęty można utworzyć za pomocą klasy PromptPattern z ciągu znaków, pliku lub adresu URL. Tutaj są [dodatkowe przykłady PromptPattern](https://ibm.github.io/ibm-generative-ai/rst_source/examples/examples.html), które uwzględniono w dokumentacji."
   ]
  },
  {
   "cell_type": "markdown",
   "id": "1cfc5148",
   "metadata": {},
   "source": [
    "#### 2.2.1 Prompt Pattern z danych tekstowych"
   ]
  },
  {
   "cell_type": "code",
   "execution_count": 2,
   "id": "97cee4b7",
   "metadata": {},
   "outputs": [
    {
     "data": {
      "text/plain": [
       "input: Jane Doe is 43 and lives in San Francisco, CA. They bought groceries, household goods and travel supplies"
      ]
     },
     "execution_count": 2,
     "metadata": {},
     "output_type": "execute_result"
    }
   ],
   "source": [
    "pattern = \"input: {{name}} {{family_name}} is {{age}} and lives in {{location}}. They bought {{purchase_history}}\"\n",
    "\n",
    "prompt = PromptPattern.from_str(pattern)\n",
    "prompt.sub(\"name\", \"Jane\").sub(\"family_name\", \"Doe\").sub(\"age\", \"43\").sub(\"location\", \"San Francisco, CA\").sub(\"purchase_history\", \"groceries, household goods and travel supplies\")\n",
    "\n",
    "prompt"
   ]
  },
  {
   "cell_type": "markdown",
   "id": "fe6a6cdb",
   "metadata": {},
   "source": [
    "#### 2.2.2 Prompt Pattern z pliku\n",
    "Prompt patterns mogą być również przechowywane w pliku .yaml"
   ]
  },
  {
   "cell_type": "code",
   "execution_count": 3,
   "id": "d4c511aa",
   "metadata": {},
   "outputs": [
    {
     "name": "stdout",
     "output_type": "stream",
     "text": [
      "TEMPLATE:\n",
      "input: \"{{name_1}} {{family_name_1}} is {{age_1}} years old and lives in {{city_1}}, {{state_1}}. Their purchase history includes {{purchase_history_1}}.\"\n",
      "output: \"Recommendations:\\n Item 1: {{recommendation_1_1}}\\nItem 2: {{recommendation_2_1}}\"\n",
      "input: \"{{name_2}} {{family_name_2}} is {{age_2}} years old and lives in {{city_2}}, {{state_2}}. Their purchase history includes {{purchase_history_2}}.\"\n",
      "output: \"Recommendations:\\n Item 1: {{recommendation_1_2}}\\nItem 2: {{recommendation_2_2}}\"\n",
      "input: \"{{name_3}} {{family_name_3}} is {{age_3}} years old and lives in {{city_3}}, {{state_3}}. Their purchase history includes {{purchase_history_3}}.\"\n",
      "output: \"\"\n",
      "\n",
      "\n",
      "POPULATED TEMPLATE:\n",
      "input: \"Jane Doe is 43 years old and lives in San Francisco, CA. Their purchase history includes groceries, household goods and travel supplies.\"\n",
      "output: \"Recommendations:\\n Item 1: Basket of organic fruits\\nItem 2: Lightweight carry-on suitcase\"\n",
      "input: \"Siamak Baharoo is 57 years old and lives in Chicago, IL. Their purchase history includes Books electronics home_goods.\"\n",
      "output: \"Recommendations:\\n Item 1: Kindle Paperwhite - This e-reader is perfect for book lovers who want a lightweight and portable device that can hold thousands of books. It has a glare-free display and a long battery life, so you can read for hours on end without having to worry about running out of power.\\nItem 2: Google Home Mini - This smart speaker is perfect for controlling your home's smart devices with your voice. You can use it to play music, set alarms, get news, and more. It's also a great way to stay connected with friends and family.\"\n",
      "input: \"Luis Cooli is 21 years old and lives in New York City, NY. Their purchase history includes Clothing shoes cosmetics.\"\n",
      "output: \"\"\n",
      "\n"
     ]
    }
   ],
   "source": [
    "_path_to_file = \"../templates/customer_factsheet.yaml\"\n",
    "\n",
    "prompt = PromptPattern.from_file(_path_to_file)\n",
    "print(\"TEMPLATE:\\n\" + str(prompt))\n",
    "\n",
    "# This template can now be populated by iterating over an array:\n",
    "names= [\"Jane\", \"Siamak\", \"Luis\"]\n",
    "family_names = [\"Doe\", \"Baharoo\", \"Cooli\"]\n",
    "ages = [43, 57, 21]\n",
    "cities = [\"San Francisco\", \"Chicago\", \"New York City\"]\n",
    "states= [\"CA\", \"IL\", \"NY\"]\n",
    "purchase_histories= [\"groceries, household goods and travel supplies\", \"Books electronics home_goods\", \"Clothing shoes cosmetics\"]\n",
    "recommendation_1s= [\"Basket of organic fruits\", \n",
    "                    \"Kindle Paperwhite - This e-reader is perfect for book lovers who want a lightweight and portable device that can hold thousands of books. It has a glare-free display and a long battery life, so you can read for hours on end without having to worry about running out of power.\", \n",
    "                    \"Aritzia Wilfred Free Sweater - This soft and cozy sweater is perfect for a casual day out. It's available in a variety of colors, so you can find the perfect one to match your style.\"]\n",
    "recommendation_2s= [\"Lightweight carry-on suitcase\", \n",
    "                    \"Google Home Mini - This smart speaker is perfect for controlling your home's smart devices with your voice. You can use it to play music, set alarms, get news, and more. It's also a great way to stay connected with friends and family.\", \n",
    "                    \"Steve Madden Pointed Toe Pumps - These stylish pumps are perfect for a night out on the town. They're comfortable and versatile, so you can wear them with a variety of outfits.\"]\n",
    "for x in range(1, 4):\n",
    "    prompt.sub(f\"name_{x}\", names[x-1]).sub(f\"family_name_{x}\", family_names[x-1]).sub(f\"age_{x}\", str(ages[x-1])).sub(f\"city_{x}\", cities[x-1]).sub(f\"state_{x}\", states[x-1])\n",
    "    prompt.sub(f\"purchase_history_{x}\", purchase_histories[x-1])\n",
    "    prompt.sub(f\"recommendation_1_{x}\", recommendation_1s[x-1])\n",
    "    prompt.sub(f\"recommendation_2_{x}\", recommendation_2s[x-1])\n",
    "print(\"\\nPOPULATED TEMPLATE:\\n\" + str(prompt))"
   ]
  },
  {
   "cell_type": "markdown",
   "id": "eb85c4bd",
   "metadata": {},
   "source": [
    "## 3. Stwórz Prompty bazując na zestawieniu informacji o klientach <a id=\"step3\"></a>\n"
   ]
  },
  {
   "cell_type": "markdown",
   "id": "682e71a4",
   "metadata": {},
   "source": [
    "### 3.1 Masowe tworzenie danych wejściowych\n",
    "Możemy teraz wygenerować \"few shot prompts\" z wierszy w pliku csv za pomocą „sub_all_from_csv”. Można to również zrobić z json. Szczegóły można znaleźć w [dokumentacji klasy PromptPattern](https://ibm.github.io/ibm-generative-ai/rst_source/genai.prompt.prompt_pattern.html)"
   ]
  },
  {
   "cell_type": "code",
   "execution_count": 4,
   "id": "20d7aaba",
   "metadata": {},
   "outputs": [
    {
     "name": "stdout",
     "output_type": "stream",
     "text": [
      "TEMPLATE:\n",
      "input: \"{{name_1}} {{family_name_1}} is {{age_1}} years old and lives in {{city_1}}, {{state_1}}. Their purchase history includes {{purchase_history_1}}.\"\n",
      "output: \"Recommendations:\\n Item 1: {{recommendation_1_1}}\\nItem 2: {{recommendation_2_1}}\"\n",
      "input: \"{{name_2}} {{family_name_2}} is {{age_2}} years old and lives in {{city_2}}, {{state_2}}. Their purchase history includes {{purchase_history_2}}.\"\n",
      "output: \"Recommendations:\\n Item 1: {{recommendation_1_2}}\\nItem 2: {{recommendation_2_2}}\"\n",
      "input: \"{{name_3}} {{family_name_3}} is {{age_3}} years old and lives in {{city_3}}, {{state_3}}. Their purchase history includes {{purchase_history_3}}.\"\n",
      "output: \"\"\n",
      "\n",
      "\n",
      "POPULATED TEMPLATE:\n",
      "input: \"John Smith is 30 years old and lives in San Francisco, CA. Their purchase history includes Books electronics home_goods.\"\n",
      "output: \"Recommendations:\\n Item 1: Kindle Paperwhite - This e-reader is perfect for book lovers who want a lightweight and portable device that can hold thousands of books. It has a glare-free display and a long battery life, so you can read for hours on end without having to worry about running out of power.\\nItem 2: Google Home Mini - This smart speaker is perfect for controlling your home's smart devices with your voice. You can use it to play music, set alarms, get news, and more. It's also a great way to stay connected with friends and family.\"\n",
      "input: \"Jane Doe is 25 years old and lives in New York, NY. Their purchase history includes Clothing shoes cosmetics.\"\n",
      "output: \"Recommendations:\\n Item 1: Aritzia Wilfred Free Sweater - This soft and cozy sweater is perfect for a casual day out. It's available in a variety of colors, so you can find the perfect one to match your style.\\nItem 2: Steve Madden Pointed Toe Pumps - These stylish pumps are perfect for a night out on the town. They're comfortable and versatile, so you can wear them with a variety of outfits.\"\n",
      "input: \"Michael Jones is 40 years old and lives in Seattle, WA. Their purchase history includes Toys games sporting_goods.\"\n",
      "output: \"\"\n",
      "\n"
     ]
    }
   ],
   "source": [
    "_path_to_template_file = \"../templates/customer_factsheet.yaml\"\n",
    "_path_to_csv_file = \"../data/customer_factsheet.csv\"\n",
    "\n",
    "prompt = PromptPattern.from_file(_path_to_template_file)\n",
    "print(\"TEMPLATE:\\n\" + str(prompt))\n",
    "\n",
    "# We use a mapping table like below so each row in the CSV is mapped to the correct variable of the YAML template.\n",
    "# The recommendations for rows 1 and 2 are used for few shot training while every row's 3rd recommendation\n",
    "# is ignored as these are the recommendation for which we are evaluating our prompt's performance.\n",
    "\n",
    "# Używamy tabeli mapowania, jak poniżej, więc każdy wiersz w pliku CSV jest mapowany na odpowiednią zmienną szablonu YAML.\n",
    "# Zalecenia dla wierszy 1 i 2 są używane do \"few shot training\", podczas gdy 3. zalecenie dla każdego wiersza\n",
    "# jest ignorowane, ponieważ są to zalecenia, dla których oceniamy wydajność naszych danych wejściowych.\n",
    "mapping = {\n",
    "    \"name\": [\"name_1\", \"name_2\", \"name_3\"],\n",
    "    \"family_name\": [\"family_name_1\", \"family_name_2\", \"family_name_3\"],\n",
    "    \"age\": [\"age_1\", \"age_2\", \"age_3\"],\n",
    "    \"city\": [\"city_1\", \"city_2\", \"city_3\"],\n",
    "    \"state\": [\"state_1\", \"state_2\", \"state_3\"],\n",
    "    \"purchase_history\": [\"purchase_history_1\", \"purchase_history_2\", \"purchase_history_3\"],\n",
    "    \"recommendation_1\": [\"recommendation_1_1\", \"recommendation_1_2\", \"recommendation_1_3\"],\n",
    "    \"recommendation_2\": [\"recommendation_2_1\", \"recommendation_2_2\", \"recommendation_2_3\"]\n",
    "}\n",
    "\n",
    "list_of_prompts = prompt.sub_all_from_csv(csv_path=_path_to_csv_file,col_to_var=mapping)\n",
    "\n",
    "print(\"\\nPOPULATED TEMPLATE:\\n\" + str(list_of_prompts[0]))"
   ]
  },
  {
   "cell_type": "markdown",
   "id": "00860a91",
   "metadata": {},
   "source": [
    "### 3.2 Dodatkowe przykłady\n",
    "Możesz sprawdzić [dodatkowe przykłady użycia Prompt Pattern](https://ibm.github.io/ibm-generative-ai/rst_source/examples/prompts.html)"
   ]
  },
  {
   "cell_type": "markdown",
   "id": "ed11a20a",
   "metadata": {},
   "source": [
    "## 4. Szybka ocena i \"few shot learning\" na podstawie danych wejściowych utworzonych zbiorczo<a id=\"step4\"></a>\n",
    "\n",
    "W poprzednich przykładach utworzyłeś dane wejściowe za pomocą „2-shot learning”. Tj. były trzy wejścia, ale tylko dwa kompletne wyjścia. Używając w ten sposób większego zestawu danych, możesz przeprowadzić masowe testowanie promptu.\n",
    "\n",
    "Np. dwie z twoich próbek danych są używane do trenowania, podczas gdy „wyjście” trzeciej próbki można porównać z danymi wyjściowymi modelu, aby upewnić się, że prompt działa zgodnie z oczekiwaniami. Możesz teraz wykonać \"few shot prompts, aby zobaczyć, jak dobrze nasz opracowany prompt działa w licznych przykładach"
   ]
  },
  {
   "cell_type": "markdown",
   "id": "7e7b5ffb",
   "metadata": {},
   "source": [
    "### 4.1 Załaduj swoje dane logowania do watsonx.ai i wywołaj model"
   ]
  },
  {
   "cell_type": "code",
   "execution_count": 19,
   "id": "b0ea437e",
   "metadata": {},
   "outputs": [],
   "source": [
    "#Credentials\n",
    "my_credentials = {\n",
    "    \"url\" : \"https://us-south.ml.cloud.ibm.com\",\n",
    "    \"apikey\" : \"\"\n",
    "}\n",
    "project_id = \"\"\n",
    "model_id    = ModelTypes.FLAN_T5_XXL\n",
    "gen_parms   = None\n",
    "space_id    = None\n",
    "verify      = False\n",
    "model = Model( model_id, my_credentials, gen_parms, project_id, space_id, verify )   "
   ]
  },
  {
   "cell_type": "markdown",
   "id": "8053738c",
   "metadata": {},
   "source": [
    "### 4.2 Send prompts to Watsonx.ai"
   ]
  },
  {
   "cell_type": "code",
   "execution_count": 79,
   "id": "8e3ee91c",
   "metadata": {},
   "outputs": [
    {
     "name": "stdout",
     "output_type": "stream",
     "text": [
      "Prompt: input: \"John Smith is 30 years old and lives in San Francisco, CA. Their purchase history includes Books electronics home_goods.\"\n",
      "output: \"Recommendations:\\n Item 1: Kindle Paperwhite - This e-reader is perfect for book lovers who want a lightweight and portable device that can hold thousands of books. It has a glare-free display and a long battery life, so you can read for hours on end without having to worry about running out of power.\\nItem 2: Google Home Mini - This smart speaker is perfect for controlling your home's smart devices with your voice. You can use it to play music, set alarms, get news, and more. It's also a great way to stay connected with friends and family.\"\n",
      "input: \"Jane Doe is 25 years old and lives in New York, NY. Their purchase history includes Clothing shoes cosmetics.\"\n",
      "output: \"Recommendations:\\n Item 1: Aritzia Wilfred Free Sweater - This soft and cozy sweater is perfect for a casual day out. It's available in a variety of colors, so you can find the perfect one to match your style.\\nItem 2: Steve Madden Pointed Toe Pumps - These stylish pumps are perfect for a night out on the town. They're comfortable and versatile, so you can wear them with a variety of outfits.\"\n",
      "input: \"Michael Jones is 40 years old and lives in Seattle, WA. Their purchase history includes Toys games sporting_goods.\"\n",
      "output: \"\"\n",
      "\n",
      "Output: [{'generated_text': 'Recommendations:n Item 1: XBox One - This console', 'generated_token_count': 20, 'input_token_count': 357, 'stop_reason': 'MAX_TOKENS'}]\n",
      "\n",
      "\n",
      "\n",
      "\n",
      "Prompt: input: \"Sarah Johnson is 50 years old and lives in Chicago, IL. Their purchase history includes Furniture appliances home_improvement_supplies.\"\n",
      "output: \"Recommendations:\\n Item 1: IKEA KALLAX Shelving Unit - This versatile shelving unit can be used to store books, games, décor, or anything else you need to organize. It's available in a variety of sizes and colors, so you can find the perfect one to fit your space.\\nItem 2: LG WM3900HWA Washer and Dryer Set - This washer and dryer set offers energy-efficient performance and a variety of cycles to choose from, making it perfect for busy families.\"\n",
      "input: \"David Williams is 60 years old and lives in Atlanta, GA. Their purchase history includes Groceries household_items travel_items.\"\n",
      "output: \"Recommendations:\\n Item 1: Basket of organic fruits\\nItem 2: Lightweight carry-on suitcase\"\n",
      "input: \"Ashley Brown is 20 years old and lives in Los Angeles, CA. Their purchase history includes Makeup skincare fashion.\"\n",
      "output: \"\"\n",
      "\n",
      "Output: [{'generated_text': 'Recommendations:n Item 1: Makeup - This versatile makeup can', 'generated_token_count': 20, 'input_token_count': 261, 'stop_reason': 'MAX_TOKENS'}]\n",
      "\n",
      "\n",
      "\n",
      "\n",
      "Prompt: input: \"Christopher Green is 35 years old and lives in Miami, FL. Their purchase history includes Electronics home_improvement sporting_goods.\"\n",
      "output: \"Recommendations:\\n Item 1: Wireless Headphones\\nItem 2: Power Tools\"\n",
      "input: \"Daniel Miller is 45 years old and lives in Houston, TX. Their purchase history includes Books music movies.\"\n",
      "output: \"Recommendations:\\n Item 1: Bestselling Novel\\nItem 2: Vinyl Records\"\n",
      "input: \"Emily Johnson is 55 years old and lives in Dallas, TX. Their purchase history includes Furniture appliances home_improvement_supplies.\"\n",
      "output: \"\"\n",
      "\n",
      "Output: [{'generated_text': 'Recommendations:n Item 1: FurniturenItem 2: Appliance', 'generated_token_count': 20, 'input_token_count': 157, 'stop_reason': 'MAX_TOKENS'}]\n",
      "\n",
      "\n",
      "\n",
      "\n"
     ]
    }
   ],
   "source": [
    "for prompt in list_of_prompts:\n",
    "    prompt_txt = str(prompt)\n",
    "    responses = model.generate(prompt_txt)\n",
    "    result = responses[\"results\"]\n",
    "    print(f\"Prompt: {prompt}\")\n",
    "    print(f\"Output: {result}\")\n",
    "    print(\"\\n\\n\\n\")"
   ]
  },
  {
   "cell_type": "markdown",
   "id": "a1ab967e",
   "metadata": {},
   "source": [
    "### Few shot prompt analiza\n",
    "Te wyniki nie są złe. X-Box dla klienta z historią kupowania zabawek i gier. Podobnie kosmetyki i meble dla pozostałych dwóch klientów dokładnie odzwierciedlają ich historię zakupów."
   ]
  },
  {
   "cell_type": "markdown",
   "id": "d599c479",
   "metadata": {},
   "source": [
    "## 5. Gratulacje\n",
    "Gratulujemy ukończenia laboratorium i odkrywania fascynującego świata masowego tworzenia podpowiedzi Few Shot Prompts przy użyciu PromptPatterns!\n",
    "\n",
    "Dzięki praktycznemu przykładowi generowania spersonalizowanych rekomendacji produktów przekonałeś się o sile dostosowywania danych wejściowych do indywidualnych profili klientów. Uwzględniając szczegóły specyficzne dla klienta i programowo generując zbiorcze przykłady, możesz dostosować model do konkretnego przypadku użycia, co skutkuje dokładniejszymi i dostosowanymi wynikami. \n",
    "\n",
    "Continuously iterating and refining your prompts based on these examples will unlock the full potential of language models and enhance their performance across various domains. Keep experimenting and leveraging prompt engineering techniques to optimize your interactions with language models and drive impactful results in your projects."
   ]
  },
  {
   "cell_type": "code",
   "execution_count": null,
   "id": "8f2fb8b0",
   "metadata": {},
   "outputs": [],
   "source": []
  }
 ],
 "metadata": {
  "kernelspec": {
   "display_name": "Python 3 (ipykernel)",
   "language": "python",
   "name": "python3"
  },
  "language_info": {
   "codemirror_mode": {
    "name": "ipython",
    "version": 3
   },
   "file_extension": ".py",
   "mimetype": "text/x-python",
   "name": "python",
   "nbconvert_exporter": "python",
   "pygments_lexer": "ipython3",
   "version": "3.10.9"
  }
 },
 "nbformat": 4,
 "nbformat_minor": 5
}
